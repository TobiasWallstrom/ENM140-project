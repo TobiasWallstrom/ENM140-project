{
 "cells": [
  {
   "cell_type": "code",
   "execution_count": 1,
   "metadata": {},
   "outputs": [],
   "source": [
    "from main import *"
   ]
  },
  {
   "cell_type": "markdown",
   "metadata": {},
   "source": [
    "## Utility gains"
   ]
  },
  {
   "cell_type": "code",
   "execution_count": 2,
   "metadata": {},
   "outputs": [],
   "source": [
    "class SimpleUtility(UtilityFunction):\n",
    "    def calculate(self, action, favor_size):\n",
    "        \"\"\"\n",
    "        Simple utility calculation:\n",
    "        - Cooperation: Requester gains +favor_size, responder loses -favor_size.\n",
    "        - Rejection: No utility change.\n",
    "        \"\"\"\n",
    "        if action == \"cooperate\":\n",
    "            return favor_size, -favor_size*0.25\n",
    "        elif action == \"reject\":\n",
    "            return 0, 0\n",
    "        else:  # No action\n",
    "            return 0, 0"
   ]
  },
  {
   "cell_type": "markdown",
   "metadata": {},
   "source": [
    "## Reputation gains"
   ]
  },
  {
   "cell_type": "code",
   "execution_count": 3,
   "metadata": {},
   "outputs": [],
   "source": [
    "class ReputationManager:\n",
    "    def __init__(self, gain_base=0.1, loss_base=0.1, min_reputation=-1.0, max_reputation=1.0):\n",
    "        self.gain_base = gain_base\n",
    "        self.loss_base = loss_base\n",
    "        self.min_reputation = min_reputation\n",
    "        self.max_reputation = max_reputation\n",
    "\n",
    "    def update_reputation(self, asking, helping, action, favor_size):\n",
    "        if action == \"accept\":\n",
    "            reputation_change = self.gain_base * favor_size\n",
    "            helping.real_reputation = min(self.max_reputation, helping.real_reputation + reputation_change)\n",
    "        elif action == \"reject\":\n",
    "            reputation_change = self.loss_base * favor_size * (1 + asking.real_reputation)\n",
    "            helping.real_reputation = max(self.min_reputation, helping.real_reputation - reputation_change)\n",
    "        helping.public_reputation = 1 if helping.real_reputation >= 0 else -1"
   ]
  },
  {
   "cell_type": "markdown",
   "metadata": {},
   "source": [
    "## Holesome strategy"
   ]
  },
  {
   "cell_type": "code",
   "execution_count": null,
   "metadata": {},
   "outputs": [],
   "source": [
    "L = 5  # Grid size\n",
    "N = 1   # Neighborhood radius\n",
    "\n",
    "strategy_generator_instance = StrategyGenerator(\n",
    "    favor_sizes=[1, 3],\n",
    "    reputation_values=[-1, 1]\n",
    ")\n",
    "\n",
    "grid = GameGrid(L, N, strategy_generator_instance, diagonal_neighbors=True)\n",
    "own_grid = [\"111111\"]*L**2\n",
    "grid.setup_from_bitcodes(own_grid)\n",
    "\n",
    "game = Game(grid, SimpleUtility(), ReputationManager())\n",
    "evolution = Evolution(game, inverse_copy_prob=70, inverse_mutation_prob=1000, random_mutation=True)\n",
    "evolution.run_interactive(record_data = True)\n"
   ]
  },
  {
   "cell_type": "code",
   "execution_count": null,
   "metadata": {},
   "outputs": [],
   "source": [
    "%matplotlib inline\n",
    "evolution.plot_history()\n",
    "matplotlib.use(\"TkAgg\")"
   ]
  },
  {
   "cell_type": "markdown",
   "metadata": {},
   "source": [
    "## Intruder of evil strategy"
   ]
  },
  {
   "cell_type": "code",
   "execution_count": null,
   "metadata": {},
   "outputs": [],
   "source": [
    "L = 5  # Grid size\n",
    "N = 1   # Neighborhood radius\n",
    "\n",
    "strategy_generator_instance = StrategyGenerator(\n",
    "    favor_sizes=[1, 3],\n",
    "    reputation_values=[-1, 1]\n",
    ")\n",
    "\n",
    "grid_intruder = GameGrid(L, N, strategy_generator_instance, diagonal_neighbors=True)\n",
    "own_grid_intruder = [\"111111\"]*L**2\n",
    "own_grid_intruder[L**2//2] = \"110000\"\n",
    "grid_intruder.setup_from_bitcodes(own_grid_intruder)\n",
    "\n",
    "game_intruder = Game(grid, SimpleUtility(), ReputationManager())\n",
    "evolution_intruder = Evolution(game_intruder, inverse_copy_prob=70, inverse_mutation_prob=1000, random_mutation=True)\n",
    "evolution_intruder.run_interactive(record_data = True)"
   ]
  },
  {
   "cell_type": "markdown",
   "metadata": {},
   "source": [
    "## Helping Freinds Strategy\n",
    "With higher mutation rate"
   ]
  },
  {
   "cell_type": "code",
   "execution_count": null,
   "metadata": {},
   "outputs": [],
   "source": [
    "L = 7  # Grid size\n",
    "N = 1   # Neighborhood radius\n",
    "\n",
    "strategy_generator_instance = StrategyGenerator(\n",
    "    favor_sizes=[1, 3],\n",
    "    reputation_values=[-1, 1]\n",
    ")\n",
    "\n",
    "grid_hfs = GameGrid(L, N, strategy_generator_instance, diagonal_neighbors=True)\n",
    "own_grid_hfs = [\"110101\"]*L**2\n",
    "grid_hfs.setup_from_bitcodes(own_grid_hfs)\n",
    "\n",
    "game_hfs = Game(grid_hfs, SimpleUtility(), ReputationManager())\n",
    "evolution_hfs = Evolution(game_hfs, inverse_copy_prob=70, inverse_mutation_prob=700, random_mutation=True)\n",
    "evolution_hfs.run_interactive(record_data = True)"
   ]
  },
  {
   "cell_type": "code",
   "execution_count": null,
   "metadata": {},
   "outputs": [],
   "source": [
    "%matplotlib inline\n",
    "evolution_hfs.plot_history()\n",
    "matplotlib.use(\"TkAgg\")"
   ]
  },
  {
   "cell_type": "markdown",
   "metadata": {},
   "source": [
    "## Random grid with bad reputation"
   ]
  },
  {
   "cell_type": "code",
   "execution_count": 4,
   "metadata": {},
   "outputs": [
    {
     "ename": "AttributeError",
     "evalue": "'Player' object has no attribute 'change_reputation'",
     "output_type": "error",
     "traceback": [
      "\u001b[1;31m---------------------------------------------------------------------------\u001b[0m",
      "\u001b[1;31mAttributeError\u001b[0m                            Traceback (most recent call last)",
      "Cell \u001b[1;32mIn[4], line 11\u001b[0m\n\u001b[0;32m      9\u001b[0m grid_br \u001b[38;5;241m=\u001b[39m GameGrid(L, N, strategy_generator_instance, diagonal_neighbors\u001b[38;5;241m=\u001b[39m\u001b[38;5;28;01mTrue\u001b[39;00m)\n\u001b[0;32m     10\u001b[0m \u001b[38;5;28;01mfor\u001b[39;00m player \u001b[38;5;129;01min\u001b[39;00m grid_br\u001b[38;5;241m.\u001b[39mplayers:\n\u001b[1;32m---> 11\u001b[0m     \u001b[43mplayer\u001b[49m\u001b[38;5;241;43m.\u001b[39;49m\u001b[43mchange_reputation\u001b[49m(\u001b[38;5;241m-\u001b[39m\u001b[38;5;241m0.5\u001b[39m)\n\u001b[0;32m     13\u001b[0m game_hfs \u001b[38;5;241m=\u001b[39m Game(grid_br, SimpleUtility(), ReputationManager())\n\u001b[0;32m     14\u001b[0m evolution_hfs \u001b[38;5;241m=\u001b[39m Evolution(game_hfs, inverse_copy_prob\u001b[38;5;241m=\u001b[39m\u001b[38;5;241m70\u001b[39m, inverse_mutation_prob\u001b[38;5;241m=\u001b[39m\u001b[38;5;241m700\u001b[39m, random_mutation\u001b[38;5;241m=\u001b[39m\u001b[38;5;28;01mTrue\u001b[39;00m)\n",
      "\u001b[1;31mAttributeError\u001b[0m: 'Player' object has no attribute 'change_reputation'"
     ]
    }
   ],
   "source": [
    "L = 7  # Grid size\n",
    "N = 1   # Neighborhood radius\n",
    "\n",
    "strategy_generator_instance = StrategyGenerator(\n",
    "    favor_sizes=[1, 3],\n",
    "    reputation_values=[-1, 1]\n",
    ")\n",
    "\n",
    "grid_br = GameGrid(L, N, strategy_generator_instance, diagonal_neighbors=True)\n",
    "for player in grid_br.players:\n",
    "    player.real_reputation = -0.5\n",
    "    player.public_reputation = -1\n",
    "\n",
    "game_hfs = Game(grid_br, SimpleUtility(), ReputationManager())\n",
    "evolution_hfs = Evolution(game_hfs, inverse_copy_prob=70, inverse_mutation_prob=700, random_mutation=True)\n",
    "evolution_hfs.run_interactive(record_data = True)"
   ]
  }
 ],
 "metadata": {
  "kernelspec": {
   "display_name": "Python 3",
   "language": "python",
   "name": "python3"
  },
  "language_info": {
   "codemirror_mode": {
    "name": "ipython",
    "version": 3
   },
   "file_extension": ".py",
   "mimetype": "text/x-python",
   "name": "python",
   "nbconvert_exporter": "python",
   "pygments_lexer": "ipython3",
   "version": "3.9.13"
  }
 },
 "nbformat": 4,
 "nbformat_minor": 2
}
