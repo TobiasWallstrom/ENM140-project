{
 "cells": [
  {
   "cell_type": "code",
   "execution_count": 1,
   "metadata": {},
   "outputs": [],
   "source": [
    "from main import *\n",
    "from IPython.display import Image, display"
   ]
  },
  {
   "cell_type": "markdown",
   "metadata": {},
   "source": [
    "## Utility gains"
   ]
  },
  {
   "cell_type": "code",
   "execution_count": 2,
   "metadata": {},
   "outputs": [],
   "source": [
    "class SimpleUtility(UtilityFunction):\n",
    "    def calculate(self, action, favor_size):\n",
    "        \"\"\"\n",
    "        Simple utility calculation:\n",
    "        - Cooperation: Requester gains +favor_size, responder loses -favor_size.\n",
    "        - Rejection: No utility change.\n",
    "        \"\"\"\n",
    "        if action == \"cooperate\":\n",
    "            return favor_size, -favor_size*0.25\n",
    "        elif action == \"reject\":\n",
    "            return 0, 0\n",
    "        else:  # No action\n",
    "            return 0, 0"
   ]
  },
  {
   "cell_type": "markdown",
   "metadata": {},
   "source": [
    "## Reputation gains"
   ]
  },
  {
   "cell_type": "code",
   "execution_count": 3,
   "metadata": {},
   "outputs": [],
   "source": [
    "class ReputationManager:\n",
    "    def __init__(self, gain_base=0.1, loss_base=0.1, min_reputation=-1.0, max_reputation=1.0):\n",
    "        self.gain_base = gain_base\n",
    "        self.loss_base = loss_base\n",
    "        self.min_reputation = min_reputation\n",
    "        self.max_reputation = max_reputation\n",
    "\n",
    "    def update_reputation(self, asking, helping, action, favor_size):\n",
    "        if action == \"accept\":\n",
    "            reputation_change = self.gain_base * favor_size\n",
    "            helping.real_reputation = min(self.max_reputation, helping.real_reputation + reputation_change)\n",
    "        elif action == \"reject\":\n",
    "            reputation_change = self.loss_base * favor_size * (1 + asking.real_reputation/1.5)\n",
    "            helping.real_reputation = max(self.min_reputation, helping.real_reputation - reputation_change)\n",
    "        helping.public_reputation = 1 if helping.real_reputation >= 0 else -1"
   ]
  },
  {
   "cell_type": "markdown",
   "metadata": {},
   "source": [
    "## Intruder of evil strategy"
   ]
  },
  {
   "cell_type": "code",
   "execution_count": null,
   "metadata": {},
   "outputs": [],
   "source": [
    "L = 5  # Grid size\n",
    "N = 1   # Neighborhood radius\n",
    "\n",
    "strategy_generator_instance = StrategyGenerator(\n",
    "    favor_sizes=[1, 3],\n",
    "    reputation_values=[-1, 1]\n",
    ")\n",
    "\n",
    "grid_intruder = GameGrid(L, N, strategy_generator_instance, diagonal_neighbors=True)\n",
    "own_grid_intruder = [\"111111\"]*L**2\n",
    "own_grid_intruder[L**2//2] = \"110000\"\n",
    "grid_intruder.setup_from_bitcodes(own_grid_intruder)\n",
    "\n",
    "game_intruder = Game(grid_intruder, SimpleUtility(), ReputationManager())\n",
    "evolution_intruder = Evolution(game_intruder, inverse_copy_prob=70, inverse_mutation_prob=1000, random_mutation=True)\n",
    "evolution_intruder.run_interactive(record_data = True)"
   ]
  },
  {
   "cell_type": "code",
   "execution_count": null,
   "metadata": {},
   "outputs": [],
   "source": [
    "%matplotlib inline\n",
    "evolution_intruder.plot_history()\n",
    "matplotlib.use(\"TkAgg\")"
   ]
  },
  {
   "cell_type": "markdown",
   "metadata": {},
   "source": [
    "## Helping Friends Strategy\n",
    "With higher mutation rate"
   ]
  },
  {
   "cell_type": "code",
   "execution_count": null,
   "metadata": {},
   "outputs": [],
   "source": [
    "L = 7  # Grid size\n",
    "N = 1   # Neighborhood radius\n",
    "\n",
    "strategy_generator_instance = StrategyGenerator(\n",
    "    favor_sizes=[1, 3],\n",
    "    reputation_values=[-1, 1]\n",
    ")\n",
    "\n",
    "grid_hfs = GameGrid(L, N, strategy_generator_instance, diagonal_neighbors=True)\n",
    "own_grid_hfs = [\"110101\"]*L**2\n",
    "grid_hfs.setup_from_bitcodes(own_grid_hfs)\n",
    "\n",
    "game_hfs = Game(grid_hfs, SimpleUtility(), ReputationManager())\n",
    "evolution_hfs = Evolution(game_hfs, inverse_copy_prob=70, inverse_mutation_prob=700, random_mutation=True)\n",
    "evolution_hfs.run_interactive(record_data = True)"
   ]
  },
  {
   "cell_type": "code",
   "execution_count": null,
   "metadata": {},
   "outputs": [],
   "source": [
    "%matplotlib inline\n",
    "evolution_hfs.plot_history()\n",
    "matplotlib.use(\"TkAgg\")"
   ]
  },
  {
   "cell_type": "markdown",
   "metadata": {},
   "source": [
    "## Random grid with bad reputation"
   ]
  },
  {
   "cell_type": "code",
   "execution_count": null,
   "metadata": {},
   "outputs": [],
   "source": [
    "L = 7  # Grid size\n",
    "N = 1   # Neighborhood radius\n",
    "\n",
    "strategy_generator_instance = StrategyGenerator(\n",
    "    favor_sizes=[1, 3],\n",
    "    reputation_values=[-1, 1]\n",
    ")\n",
    "\n",
    "grid_br = GameGrid(L, N, strategy_generator_instance, diagonal_neighbors=True)\n",
    "for player in grid_br.players:\n",
    "    player.real_reputation = -0.5\n",
    "    player.public_reputation = -1\n",
    "\n",
    "game_br = Game(grid_br, SimpleUtility(), ReputationManager())\n",
    "evolution_br = Evolution(game_br, inverse_copy_prob=70, inverse_mutation_prob=700, random_mutation=True)\n",
    "evolution_br.run_interactive(record_data = True)"
   ]
  },
  {
   "cell_type": "code",
   "execution_count": null,
   "metadata": {},
   "outputs": [],
   "source": [
    "%matplotlib inline\n",
    "evolution_br.plot_history()\n",
    "matplotlib.use(\"TkAgg\")"
   ]
  },
  {
   "cell_type": "markdown",
   "metadata": {},
   "source": [
    "### Old run of random bad reputation"
   ]
  },
  {
   "cell_type": "code",
   "execution_count": null,
   "metadata": {},
   "outputs": [],
   "source": [
    "file_path = \"plots/random_badrep_4000rounds.png\"\n",
    "display(Image(filename=file_path))"
   ]
  },
  {
   "cell_type": "markdown",
   "metadata": {},
   "source": [
    "## Change reputation gains\n",
    "Decrease reputaiton loss, increase gain"
   ]
  },
  {
   "cell_type": "code",
   "execution_count": 13,
   "metadata": {},
   "outputs": [],
   "source": [
    "class ReputationManager:\n",
    "    def __init__(self, gain_base=0.15, loss_base=0.02, min_reputation=-1.0, max_reputation=1.0):\n",
    "        self.gain_base = gain_base\n",
    "        self.loss_base = loss_base\n",
    "        self.min_reputation = min_reputation\n",
    "        self.max_reputation = max_reputation\n",
    "\n",
    "    def update_reputation(self, asking, helping, action, favor_size):\n",
    "        if action == \"accept\":\n",
    "            reputation_change = self.gain_base * favor_size\n",
    "            helping.real_reputation = min(self.max_reputation, helping.real_reputation + reputation_change)\n",
    "        elif action == \"reject\":\n",
    "            reputation_change = self.loss_base * favor_size * (1 + asking.real_reputation/1.5)\n",
    "            helping.real_reputation = max(self.min_reputation, helping.real_reputation - reputation_change)\n",
    "        helping.public_reputation = 1 if helping.real_reputation >= 0 else -1"
   ]
  },
  {
   "cell_type": "code",
   "execution_count": null,
   "metadata": {},
   "outputs": [],
   "source": [
    "L = 7  # Grid size\n",
    "N = 1   # Neighborhood radius\n",
    "\n",
    "strategy_generator_instance = StrategyGenerator(\n",
    "    favor_sizes=[1, 3],\n",
    "    reputation_values=[-1, 1]\n",
    ")\n",
    "\n",
    "grid_island2 = GameGrid(L, N, strategy_generator_instance, diagonal_neighbors=True)\n",
    "own_grid_island = [\n",
    "    \"110000\", \"110000\", \"110000\", \"110000\", \"110000\", \"110000\", \"110000\",\n",
    "    \"110000\", \"110000\", \"110000\", \"110000\", \"110000\", \"110000\", \"110000\",\n",
    "    \"110000\", \"110000\", \"110101\", \"110101\", \"110101\", \"110101\", \"110000\",\n",
    "    \"110000\", \"110000\", \"110101\", \"110101\", \"110101\", \"110101\", \"110000\",\n",
    "    \"110000\", \"110000\", \"110101\", \"110101\", \"110101\", \"110101\", \"110000\",\n",
    "    \"110000\", \"110000\", \"110101\", \"110101\", \"110101\", \"110101\", \"110000\",\n",
    "    \"110000\", \"110000\", \"110000\", \"110000\", \"110000\", \"110000\", \"110000\"]\n",
    "grid_island2.setup_from_bitcodes(own_grid_island)\n",
    "\n",
    "game_island = Game(grid_island2, SimpleUtility(), ReputationManager())\n",
    "evolution_island = Evolution(game_island, inverse_copy_prob=70, inverse_mutation_prob=700, random_mutation=True)\n",
    "evolution_island.run_interactive(record_data = True)"
   ]
  },
  {
   "cell_type": "code",
   "execution_count": null,
   "metadata": {},
   "outputs": [],
   "source": [
    "%matplotlib inline\n",
    "evolution_island.plot_history()\n",
    "matplotlib.use(\"TkAgg\")"
   ]
  },
  {
   "cell_type": "markdown",
   "metadata": {},
   "source": [
    "## Add constant reputation Gain"
   ]
  },
  {
   "cell_type": "code",
   "execution_count": 18,
   "metadata": {},
   "outputs": [],
   "source": [
    "class Game_forgiving(Game):\n",
    "    def __init__(self, grid, utility_function, reputation_manager, consant_reputation_increase = 0.005):\n",
    "        super().__init__(grid, utility_function, reputation_manager)\n",
    "        self.consant_reputation_increase = consant_reputation_increase\n",
    "\n",
    "    def play_round(self):\n",
    "        for player in self.grid.players:\n",
    "            player.update_reputation(self.consant_reputation_increase, ReputationManager.max_reputation, ReputationManager.min_reputation)\n",
    "        super().play_round()"
   ]
  },
  {
   "cell_type": "code",
   "execution_count": null,
   "metadata": {},
   "outputs": [],
   "source": [
    "L = 7  # Grid size\n",
    "N = 1   # Neighborhood radius\n",
    "\n",
    "strategy_generator_instance = StrategyGenerator(\n",
    "    favor_sizes=[1, 3],\n",
    "    reputation_values=[-1, 1]\n",
    ")\n",
    "\n",
    "grid_island2 = GameGrid(L, N, strategy_generator_instance, diagonal_neighbors=True)\n",
    "own_grid_island = [\n",
    "    \"110000\", \"110000\", \"110000\", \"110000\", \"110000\", \"110000\", \"110000\",\n",
    "    \"110000\", \"110000\", \"110000\", \"110000\", \"110000\", \"110000\", \"110000\",\n",
    "    \"110000\", \"110000\", \"110101\", \"110101\", \"110101\", \"110101\", \"110000\",\n",
    "    \"110000\", \"110000\", \"110101\", \"110101\", \"110101\", \"110101\", \"110000\",\n",
    "    \"110000\", \"110000\", \"110101\", \"110101\", \"110101\", \"110101\", \"110000\",\n",
    "    \"110000\", \"110000\", \"110101\", \"110101\", \"110101\", \"110101\", \"110000\",\n",
    "    \"110000\", \"110000\", \"110000\", \"110000\", \"110000\", \"110000\", \"110000\"]\n",
    "grid_island2.setup_from_bitcodes(own_grid_island)\n",
    "\n",
    "game_island2 = Game_forgiving(grid_island2, SimpleUtility(), ReputationManager(), consant_reputation_increase = 0.005)\n",
    "evolution_island2 = Evolution(game_island2, inverse_copy_prob=70, inverse_mutation_prob=700, random_mutation=True)\n",
    "evolution_island2.run_interactive(record_data = True)"
   ]
  },
  {
   "cell_type": "code",
   "execution_count": null,
   "metadata": {},
   "outputs": [],
   "source": [
    "%matplotlib inline\n",
    "evolution_island2.plot_history()\n",
    "matplotlib.use(\"TkAgg\")"
   ]
  },
  {
   "cell_type": "code",
   "execution_count": null,
   "metadata": {},
   "outputs": [],
   "source": []
  }
 ],
 "metadata": {
  "kernelspec": {
   "display_name": "Python 3",
   "language": "python",
   "name": "python3"
  },
  "language_info": {
   "codemirror_mode": {
    "name": "ipython",
    "version": 3
   },
   "file_extension": ".py",
   "mimetype": "text/x-python",
   "name": "python",
   "nbconvert_exporter": "python",
   "pygments_lexer": "ipython3",
   "version": "3.9.13"
  }
 },
 "nbformat": 4,
 "nbformat_minor": 2
}
