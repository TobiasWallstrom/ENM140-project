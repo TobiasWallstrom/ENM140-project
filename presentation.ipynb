{
 "cells": [
  {
   "cell_type": "code",
   "execution_count": 3,
   "metadata": {},
   "outputs": [],
   "source": [
    "from main import *"
   ]
  },
  {
   "cell_type": "markdown",
   "metadata": {},
   "source": [
    "# Utility gains"
   ]
  },
  {
   "cell_type": "code",
   "execution_count": 4,
   "metadata": {},
   "outputs": [],
   "source": [
    "class SimpleUtility(UtilityFunction):\n",
    "    def calculate(self, action, favor_size):\n",
    "        \"\"\"\n",
    "        Simple utility calculation:\n",
    "        - Cooperation: Requester gains +favor_size, responder loses -favor_size.\n",
    "        - Rejection: No utility change.\n",
    "        \"\"\"\n",
    "        if action == \"cooperate\":\n",
    "            return favor_size, -favor_size*0.25\n",
    "        elif action == \"reject\":\n",
    "            return 0, 0\n",
    "        else:  # No action\n",
    "            return 0, 0"
   ]
  },
  {
   "cell_type": "markdown",
   "metadata": {},
   "source": [
    "# Reputation gains"
   ]
  },
  {
   "cell_type": "code",
   "execution_count": 5,
   "metadata": {},
   "outputs": [],
   "source": [
    "class ReputationManager:\n",
    "    def __init__(self, gain_base=0.4, loss_base=0.01, min_reputation=-1.0, max_reputation=1.0):\n",
    "        self.gain_base = gain_base\n",
    "        self.loss_base = loss_base\n",
    "        self.min_reputation = min_reputation\n",
    "        self.max_reputation = max_reputation\n",
    "\n",
    "    def update_reputation(self, asking, helping, action, favor_size):\n",
    "        if action == \"accept\":\n",
    "            reputation_change = self.gain_base * favor_size\n",
    "            helping.real_reputation = min(self.max_reputation, helping.real_reputation + reputation_change)\n",
    "        elif action == \"reject\":\n",
    "            reputation_change = self.loss_base * favor_size * (1 + asking.real_reputation)\n",
    "            helping.real_reputation = max(self.min_reputation, helping.real_reputation - reputation_change)\n",
    "        helping.public_reputation = 1 if helping.real_reputation >= 0 else -1"
   ]
  },
  {
   "cell_type": "code",
   "execution_count": 6,
   "metadata": {},
   "outputs": [
    {
     "name": "stdout",
     "output_type": "stream",
     "text": [
      "Interactive GUI started. Use 'Start' and 'Stop' buttons to control the simulation.\n"
     ]
    }
   ],
   "source": [
    "L = 5  # Grid size\n",
    "N = 1   # Neighborhood radius\n",
    "\n",
    "strategy_generator_instance = StrategyGenerator(\n",
    "    favor_sizes=[1, 3],\n",
    "    reputation_values=[-1, 1]\n",
    ")\n",
    "\n",
    "grid = GameGrid(L, N, strategy_generator_instance, diagonal_neighbors=True)\n",
    "own_grid = [\"111111\"]*L**2\n",
    "grid.setup_from_bitcodes(own_grid)\n",
    "\n",
    "game = Game(grid, SimpleUtility(), ReputationManager())\n",
    "evolution = Evolution(game, inverse_copy_prob=70, inverse_mutation_prob=1000, random_mutation=True)\n",
    "evolution.run_interactive(record_data = True)\n",
    "evolution.plot_history()"
   ]
  }
 ],
 "metadata": {
  "kernelspec": {
   "display_name": "Python 3",
   "language": "python",
   "name": "python3"
  },
  "language_info": {
   "codemirror_mode": {
    "name": "ipython",
    "version": 3
   },
   "file_extension": ".py",
   "mimetype": "text/x-python",
   "name": "python",
   "nbconvert_exporter": "python",
   "pygments_lexer": "ipython3",
   "version": "3.9.13"
  }
 },
 "nbformat": 4,
 "nbformat_minor": 2
}
