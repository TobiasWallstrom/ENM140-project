{
 "cells": [
  {
   "cell_type": "code",
   "execution_count": 2,
   "metadata": {},
   "outputs": [],
   "source": [
    "from main import *\n",
    "from IPython.display import Image, display"
   ]
  },
  {
   "cell_type": "markdown",
   "metadata": {},
   "source": [
    "## Utility gains"
   ]
  },
  {
   "cell_type": "code",
   "execution_count": 3,
   "metadata": {},
   "outputs": [],
   "source": [
    "class SimpleUtility(UtilityFunction):\n",
    "    def calculate(self, action, favor_size):\n",
    "        \"\"\"\n",
    "        Simple utility calculation:\n",
    "        - Cooperation: Requester gains +favor_size, responder loses -favor_size.\n",
    "        - Rejection: No utility change.\n",
    "        \"\"\"\n",
    "        if action == \"cooperate\":\n",
    "            return favor_size, -favor_size*0.25\n",
    "        elif action == \"reject\":\n",
    "            return 0, 0\n",
    "        else:  # No action\n",
    "            return 0, 0"
   ]
  },
  {
   "cell_type": "markdown",
   "metadata": {},
   "source": [
    "## Reputation gains"
   ]
  },
  {
   "cell_type": "code",
   "execution_count": 4,
   "metadata": {},
   "outputs": [],
   "source": [
    "class ReputationManager:\n",
    "    def __init__(self, gain_base=0.1, loss_base=0.1, min_reputation=-1.0, max_reputation=1.0):\n",
    "        self.gain_base = gain_base\n",
    "        self.loss_base = loss_base\n",
    "        self.min_reputation = min_reputation\n",
    "        self.max_reputation = max_reputation\n",
    "\n",
    "    def update_reputation(self, asking, helping, action, favor_size):\n",
    "        if action == \"accept\":\n",
    "            reputation_change = self.gain_base * favor_size\n",
    "            helping.real_reputation = min(self.max_reputation, helping.real_reputation + reputation_change)\n",
    "        elif action == \"reject\":\n",
    "            reputation_change = self.loss_base * favor_size * (1 + asking.real_reputation/1.5)\n",
    "            helping.real_reputation = max(self.min_reputation, helping.real_reputation - reputation_change)\n",
    "        helping.public_reputation = 1 if helping.real_reputation >= 0 else -1"
   ]
  },
  {
   "cell_type": "markdown",
   "metadata": {},
   "source": [
    "## Intruder of evil strategy"
   ]
  },
  {
   "cell_type": "code",
   "execution_count": 5,
   "metadata": {},
   "outputs": [
    {
     "name": "stdout",
     "output_type": "stream",
     "text": [
      "Interactive GUI started. Use 'Start' and 'Stop' buttons to control the simulation.\n"
     ]
    },
    {
     "ename": "KeyboardInterrupt",
     "evalue": "",
     "output_type": "error",
     "traceback": [
      "\u001b[1;31m---------------------------------------------------------------------------\u001b[0m",
      "\u001b[1;31mKeyboardInterrupt\u001b[0m                         Traceback (most recent call last)",
      "Cell \u001b[1;32mIn[5], line 16\u001b[0m\n\u001b[0;32m     14\u001b[0m game_intruder \u001b[38;5;241m=\u001b[39m Game(grid_intruder, SimpleUtility(), ReputationManager())\n\u001b[0;32m     15\u001b[0m evolution_intruder \u001b[38;5;241m=\u001b[39m Evolution(game_intruder, inverse_copy_prob\u001b[38;5;241m=\u001b[39m\u001b[38;5;241m70\u001b[39m, inverse_mutation_prob\u001b[38;5;241m=\u001b[39m\u001b[38;5;241m1000\u001b[39m, random_mutation\u001b[38;5;241m=\u001b[39m\u001b[38;5;28;01mFalse\u001b[39;00m)\n\u001b[1;32m---> 16\u001b[0m \u001b[43mevolution_intruder\u001b[49m\u001b[38;5;241;43m.\u001b[39;49m\u001b[43mrun_interactive\u001b[49m\u001b[43m(\u001b[49m\u001b[43mrecord_data\u001b[49m\u001b[43m \u001b[49m\u001b[38;5;241;43m=\u001b[39;49m\u001b[43m \u001b[49m\u001b[38;5;28;43;01mTrue\u001b[39;49;00m\u001b[43m)\u001b[49m\n",
      "File \u001b[1;32mc:\\Users\\domin\\OneDrive - Comput KG des Moser Philipp\\Anderes - orginal\\Der Wissensbrereich\\Uni\\Master\\Game Theory\\Project\\ENM140-project\\backend.py:479\u001b[0m, in \u001b[0;36mEvolution.run_interactive\u001b[1;34m(self, record_data)\u001b[0m\n\u001b[0;32m    476\u001b[0m         \u001b[38;5;28;01mif\u001b[39;00m record_data:\n\u001b[0;32m    477\u001b[0m             \u001b[38;5;28mself\u001b[39m\u001b[38;5;241m.\u001b[39m_record_history(iteration)\n\u001b[1;32m--> 479\u001b[0m     \u001b[43mplt\u001b[49m\u001b[38;5;241;43m.\u001b[39;49m\u001b[43mpause\u001b[49m\u001b[43m(\u001b[49m\u001b[38;5;241;43m0.01\u001b[39;49m\u001b[43m)\u001b[49m  \u001b[38;5;66;03m# Allow GUI updates'\u001b[39;00m\n\u001b[0;32m    481\u001b[0m plt\u001b[38;5;241m.\u001b[39mclose(fig)\n",
      "File \u001b[1;32m~\\AppData\\Local\\Packages\\PythonSoftwareFoundation.Python.3.9_qbz5n2kfra8p0\\LocalCache\\local-packages\\Python39\\site-packages\\matplotlib\\pyplot.py:756\u001b[0m, in \u001b[0;36mpause\u001b[1;34m(interval)\u001b[0m\n\u001b[0;32m    754\u001b[0m         canvas\u001b[38;5;241m.\u001b[39mdraw_idle()\n\u001b[0;32m    755\u001b[0m     show(block\u001b[38;5;241m=\u001b[39m\u001b[38;5;28;01mFalse\u001b[39;00m)\n\u001b[1;32m--> 756\u001b[0m     \u001b[43mcanvas\u001b[49m\u001b[38;5;241;43m.\u001b[39;49m\u001b[43mstart_event_loop\u001b[49m\u001b[43m(\u001b[49m\u001b[43minterval\u001b[49m\u001b[43m)\u001b[49m\n\u001b[0;32m    757\u001b[0m \u001b[38;5;28;01melse\u001b[39;00m:\n\u001b[0;32m    758\u001b[0m     time\u001b[38;5;241m.\u001b[39msleep(interval)\n",
      "File \u001b[1;32m~\\AppData\\Local\\Packages\\PythonSoftwareFoundation.Python.3.9_qbz5n2kfra8p0\\LocalCache\\local-packages\\Python39\\site-packages\\matplotlib\\backends\\_backend_tk.py:423\u001b[0m, in \u001b[0;36mFigureCanvasTk.start_event_loop\u001b[1;34m(self, timeout)\u001b[0m\n\u001b[0;32m    420\u001b[0m     \u001b[38;5;28;01melse\u001b[39;00m:\n\u001b[0;32m    421\u001b[0m         \u001b[38;5;28mself\u001b[39m\u001b[38;5;241m.\u001b[39m_event_loop_id \u001b[38;5;241m=\u001b[39m \u001b[38;5;28mself\u001b[39m\u001b[38;5;241m.\u001b[39m_tkcanvas\u001b[38;5;241m.\u001b[39mafter_idle(\n\u001b[0;32m    422\u001b[0m             \u001b[38;5;28mself\u001b[39m\u001b[38;5;241m.\u001b[39mstop_event_loop)\n\u001b[1;32m--> 423\u001b[0m \u001b[38;5;28;43mself\u001b[39;49m\u001b[38;5;241;43m.\u001b[39;49m\u001b[43m_tkcanvas\u001b[49m\u001b[38;5;241;43m.\u001b[39;49m\u001b[43mmainloop\u001b[49m\u001b[43m(\u001b[49m\u001b[43m)\u001b[49m\n",
      "File \u001b[1;32mC:\\Program Files\\WindowsApps\\PythonSoftwareFoundation.Python.3.9_3.9.3568.0_x64__qbz5n2kfra8p0\\lib\\tkinter\\__init__.py:1429\u001b[0m, in \u001b[0;36mMisc.mainloop\u001b[1;34m(self, n)\u001b[0m\n\u001b[0;32m   1427\u001b[0m \u001b[38;5;28;01mdef\u001b[39;00m \u001b[38;5;21mmainloop\u001b[39m(\u001b[38;5;28mself\u001b[39m, n\u001b[38;5;241m=\u001b[39m\u001b[38;5;241m0\u001b[39m):\n\u001b[0;32m   1428\u001b[0m \u001b[38;5;250m    \u001b[39m\u001b[38;5;124;03m\"\"\"Call the mainloop of Tk.\"\"\"\u001b[39;00m\n\u001b[1;32m-> 1429\u001b[0m     \u001b[38;5;28;43mself\u001b[39;49m\u001b[38;5;241;43m.\u001b[39;49m\u001b[43mtk\u001b[49m\u001b[38;5;241;43m.\u001b[39;49m\u001b[43mmainloop\u001b[49m\u001b[43m(\u001b[49m\u001b[43mn\u001b[49m\u001b[43m)\u001b[49m\n",
      "\u001b[1;31mKeyboardInterrupt\u001b[0m: "
     ]
    }
   ],
   "source": [
    "L = 5  # Grid size\n",
    "N = 1   # Neighborhood radius\n",
    "\n",
    "strategy_generator_instance = StrategyGenerator(\n",
    "    favor_sizes=[1, 3],\n",
    "    reputation_values=[-1, 1]\n",
    ")\n",
    "\n",
    "grid_intruder = GameGrid(L, N, strategy_generator_instance, diagonal_neighbors=True)\n",
    "own_grid_intruder = [\"111111\"]*L**2\n",
    "own_grid_intruder[L**2//2] = \"110000\"\n",
    "grid_intruder.setup_from_bitcodes(own_grid_intruder)\n",
    "\n",
    "game_intruder = Game(grid_intruder, SimpleUtility(), ReputationManager())\n",
    "evolution_intruder = Evolution(game_intruder, inverse_copy_prob=70, inverse_mutation_prob=1000, random_mutation=False)\n",
    "evolution_intruder.run_interactive(record_data = True)"
   ]
  },
  {
   "cell_type": "code",
   "execution_count": null,
   "metadata": {},
   "outputs": [],
   "source": [
    "%matplotlib inline\n",
    "evolution_intruder.plot_history()\n",
    "matplotlib.use(\"TkAgg\")"
   ]
  },
  {
   "cell_type": "markdown",
   "metadata": {},
   "source": [
    "## Helping Friends Strategy\n",
    "With higher mutation rate"
   ]
  },
  {
   "cell_type": "code",
   "execution_count": null,
   "metadata": {},
   "outputs": [],
   "source": [
    "L = 7  # Grid size\n",
    "N = 1   # Neighborhood radius\n",
    "\n",
    "strategy_generator_instance = StrategyGenerator(\n",
    "    favor_sizes=[1, 3],\n",
    "    reputation_values=[-1, 1]\n",
    ")\n",
    "\n",
    "grid_hfs = GameGrid(L, N, strategy_generator_instance, diagonal_neighbors=True)\n",
    "own_grid_hfs = [\"110101\"]*L**2\n",
    "\n",
    "own_grid_hfs[L**2//2] = \"110000\"\n",
    "grid_hfs.setup_from_bitcodes(own_grid_hfs)\n",
    "\n",
    "game_hfs = Game(grid_hfs, SimpleUtility(), ReputationManager())\n",
    "evolution_hfs = Evolution(game_hfs, inverse_copy_prob=70, inverse_mutation_prob=700, random_mutation=False)\n",
    "evolution_hfs.run_interactive(record_data = True)"
   ]
  },
  {
   "cell_type": "code",
   "execution_count": null,
   "metadata": {},
   "outputs": [],
   "source": [
    "%matplotlib inline\n",
    "evolution_hfs.plot_history()\n",
    "matplotlib.use(\"TkAgg\")"
   ]
  },
  {
   "cell_type": "markdown",
   "metadata": {},
   "source": [
    "## Random grid with bad reputation"
   ]
  },
  {
   "cell_type": "code",
   "execution_count": null,
   "metadata": {},
   "outputs": [],
   "source": [
    "L = 7  # Grid size\n",
    "N = 1   # Neighborhood radius\n",
    "\n",
    "strategy_generator_instance = StrategyGenerator(\n",
    "    favor_sizes=[1, 3],\n",
    "    reputation_values=[-1, 1]\n",
    ")\n",
    "\n",
    "grid_br = GameGrid(L, N, strategy_generator_instance, diagonal_neighbors=True)\n",
    "for player in grid_br.players:\n",
    "    player.real_reputation = -0.5\n",
    "    player.public_reputation = -1\n",
    "\n",
    "game_br = Game(grid_br, SimpleUtility(), ReputationManager())\n",
    "evolution_br = Evolution(game_br, inverse_copy_prob=70, inverse_mutation_prob=700, random_mutation=True)\n",
    "evolution_br.run_interactive(record_data = True)"
   ]
  },
  {
   "cell_type": "code",
   "execution_count": null,
   "metadata": {},
   "outputs": [],
   "source": [
    "%matplotlib inline\n",
    "evolution_br.plot_history()\n",
    "matplotlib.use(\"TkAgg\")"
   ]
  },
  {
   "cell_type": "markdown",
   "metadata": {},
   "source": [
    "### Old run of random bad reputation"
   ]
  },
  {
   "cell_type": "code",
   "execution_count": null,
   "metadata": {},
   "outputs": [],
   "source": [
    "file_path = \"plots/random_badrep_4000rounds.png\"\n",
    "display(Image(filename=file_path))"
   ]
  },
  {
   "cell_type": "markdown",
   "metadata": {},
   "source": [
    "## Change reputation gains\n",
    "Decrease reputaiton loss, increase gain"
   ]
  },
  {
   "cell_type": "code",
   "execution_count": null,
   "metadata": {},
   "outputs": [],
   "source": [
    "L = 7  # Grid size\n",
    "N = 1   # Neighborhood radius\n",
    "\n",
    "strategy_generator_instance = StrategyGenerator(\n",
    "    favor_sizes=[1, 3],\n",
    "    reputation_values=[-1, 1]\n",
    ")\n",
    "\n",
    "grid_island2 = GameGrid(L, N, strategy_generator_instance, diagonal_neighbors=True)\n",
    "own_grid_island = [\n",
    "    \"110000\", \"110000\", \"110000\", \"110000\", \"110000\", \"110000\", \"110000\",\n",
    "    \"110000\", \"110000\", \"110000\", \"110000\", \"110000\", \"110000\", \"110000\",\n",
    "    \"110000\", \"110000\", \"110101\", \"110101\", \"110101\", \"110101\", \"110000\",\n",
    "    \"110000\", \"110000\", \"110101\", \"110101\", \"110101\", \"110101\", \"110000\",\n",
    "    \"110000\", \"110000\", \"110101\", \"110101\", \"110101\", \"110101\", \"110000\",\n",
    "    \"110000\", \"110000\", \"110101\", \"110101\", \"110101\", \"110101\", \"110000\",\n",
    "    \"110000\", \"110000\", \"110000\", \"110000\", \"110000\", \"110000\", \"110000\"]\n",
    "grid_island2.setup_from_bitcodes(own_grid_island)\n",
    "\n",
    "game_island = Game(grid_island2, SimpleUtility(), ReputationManager(gain_base=0.15, loss_base=0.02))\n",
    "evolution_island = Evolution(game_island, inverse_copy_prob=70, inverse_mutation_prob=700, random_mutation=True)\n",
    "evolution_island.run_interactive(record_data = True)"
   ]
  },
  {
   "cell_type": "code",
   "execution_count": null,
   "metadata": {},
   "outputs": [],
   "source": [
    "%matplotlib inline\n",
    "evolution_island.plot_history()\n",
    "matplotlib.use(\"TkAgg\")"
   ]
  },
  {
   "cell_type": "markdown",
   "metadata": {},
   "source": [
    "## Add constant reputation Gain"
   ]
  },
  {
   "cell_type": "code",
   "execution_count": 18,
   "metadata": {},
   "outputs": [],
   "source": [
    "class Game_forgiving(Game):\n",
    "    def __init__(self, grid, utility_function, reputation_manager, consant_reputation_increase = 0.005):\n",
    "        super().__init__(grid, utility_function, reputation_manager)\n",
    "        self.consant_reputation_increase = consant_reputation_increase\n",
    "\n",
    "    def play_round(self):\n",
    "        for player in self.grid.players:\n",
    "            player.update_reputation(self.consant_reputation_increase, ReputationManager.max_reputation, ReputationManager.min_reputation)\n",
    "        super().play_round()"
   ]
  },
  {
   "cell_type": "code",
   "execution_count": null,
   "metadata": {},
   "outputs": [],
   "source": [
    "L = 7  # Grid size\n",
    "N = 1   # Neighborhood radius\n",
    "\n",
    "strategy_generator_instance = StrategyGenerator(\n",
    "    favor_sizes=[1, 3],\n",
    "    reputation_values=[-1, 1]\n",
    ")\n",
    "\n",
    "grid_island2 = GameGrid(L, N, strategy_generator_instance, diagonal_neighbors=True)\n",
    "own_grid_island = [\n",
    "    \"110000\", \"110000\", \"110000\", \"110000\", \"110000\", \"110000\", \"110000\",\n",
    "    \"110000\", \"110000\", \"110000\", \"110000\", \"110000\", \"110000\", \"110000\",\n",
    "    \"110000\", \"110000\", \"110101\", \"110101\", \"110101\", \"110101\", \"110000\",\n",
    "    \"110000\", \"110000\", \"110101\", \"110101\", \"110101\", \"110101\", \"110000\",\n",
    "    \"110000\", \"110000\", \"110101\", \"110101\", \"110101\", \"110101\", \"110000\",\n",
    "    \"110000\", \"110000\", \"110101\", \"110101\", \"110101\", \"110101\", \"110000\",\n",
    "    \"110000\", \"110000\", \"110000\", \"110000\", \"110000\", \"110000\", \"110000\"]\n",
    "grid_island2.setup_from_bitcodes(own_grid_island)\n",
    "\n",
    "game_island2 = Game_forgiving(grid_island2, SimpleUtility(), ReputationManager(), consant_reputation_increase = 0.005)\n",
    "evolution_island2 = Evolution(game_island2, inverse_copy_prob=70, inverse_mutation_prob=700, random_mutation=True)\n",
    "evolution_island2.run_interactive(record_data = True)"
   ]
  },
  {
   "cell_type": "code",
   "execution_count": null,
   "metadata": {},
   "outputs": [],
   "source": [
    "%matplotlib inline\n",
    "evolution_island2.plot_history()\n",
    "matplotlib.use(\"TkAgg\")"
   ]
  }
 ],
 "metadata": {
  "kernelspec": {
   "display_name": "Python 3",
   "language": "python",
   "name": "python3"
  },
  "language_info": {
   "codemirror_mode": {
    "name": "ipython",
    "version": 3
   },
   "file_extension": ".py",
   "mimetype": "text/x-python",
   "name": "python",
   "nbconvert_exporter": "python",
   "pygments_lexer": "ipython3",
   "version": "3.9.13"
  }
 },
 "nbformat": 4,
 "nbformat_minor": 2
}
